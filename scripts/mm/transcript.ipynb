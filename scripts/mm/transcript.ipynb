{
 "cells": [
  {
   "cell_type": "code",
   "execution_count": null,
   "metadata": {},
   "outputs": [],
   "source": [
    "import torch\n",
    "torch.cuda.is_available()"
   ]
  },
  {
   "cell_type": "code",
   "execution_count": null,
   "metadata": {},
   "outputs": [],
   "source": [
    "import whisper\n",
    "\n",
    "model = whisper.load_model(\"medium\")\n",
    "result = model.transcribe(\"data/3.mp3\")"
   ]
  },
  {
   "cell_type": "code",
   "execution_count": null,
   "metadata": {},
   "outputs": [],
   "source": [
    "def convert_to_lrc(transcription, output_filename):\n",
    "    with open(output_filename, 'w') as f:\n",
    "        for start_time, text in transcription:\n",
    "            # Convert start_time from seconds to minutes:seconds.hundredths\n",
    "            minutes, seconds = divmod(start_time, 60)\n",
    "            seconds, hundredths = divmod(seconds, 1)\n",
    "            hundredths = round(hundredths * 100)\n",
    "\n",
    "            # Write to the file in LRC format\n",
    "            f.write(f'[{int(minutes):02}:{int(seconds):02}.{int(hundredths):02}] {text}\\n')\n",
    "\n",
    "convert_to_lrc([(x['start'], x['text']) for x in result['segments']], 'output/3.lrc')"
   ]
  }
 ],
 "metadata": {
  "kernelspec": {
   "display_name": "Python 3",
   "language": "python",
   "name": "python3"
  },
  "language_info": {
   "codemirror_mode": {
    "name": "ipython",
    "version": 3
   },
   "file_extension": ".py",
   "mimetype": "text/x-python",
   "name": "python",
   "nbconvert_exporter": "python",
   "pygments_lexer": "ipython3",
   "version": "3.11.3"
  },
  "orig_nbformat": 4
 },
 "nbformat": 4,
 "nbformat_minor": 2
}
