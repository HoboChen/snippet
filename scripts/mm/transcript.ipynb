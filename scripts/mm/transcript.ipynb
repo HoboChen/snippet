{
 "cells": [
  {
   "cell_type": "code",
   "execution_count": null,
   "metadata": {},
   "outputs": [],
   "source": [
    "from faster_whisper import WhisperModel\n",
    "\n",
    "model_size = \"large-v3\"\n",
    "\n",
    "# Run on GPU with FP16\n",
    "model = WhisperModel(model_size)\n",
    "\n",
    "segments, info = model.transcribe(\"data/1.mp3\", beam_size=5, vad_filter=True)\n",
    "print()\n",
    "print(\"Detected language '%s' with probability %f\" % (info.language, info.language_probability))"
   ]
  },
  {
   "cell_type": "code",
   "execution_count": null,
   "metadata": {},
   "outputs": [],
   "source": [
    "def convert_to_lrc(transcription, output_filename):\n",
    "    with open(output_filename, 'w') as f:\n",
    "        for start_time, text in transcription:\n",
    "            # Convert start_time from seconds to minutes:seconds.hundredths\n",
    "            minutes, seconds = divmod(start_time, 60)\n",
    "            seconds, hundredths = divmod(seconds, 1)\n",
    "            hundredths = round(hundredths * 100)\n",
    "\n",
    "            # Write to the file in LRC format\n",
    "            f.write(f'[{int(minutes):02}:{int(seconds):02}.{int(hundredths):02}]{text}\\n')\n",
    "\n",
    "s = list(segments)"
   ]
  },
  {
   "cell_type": "code",
   "execution_count": null,
   "metadata": {},
   "outputs": [],
   "source": [
    "for x in s:\n",
    "    print(x)\n",
    "\n",
    "convert_to_lrc([(x[2], x[4].trim()) for x in s], 'output/3.lrc')"
   ]
  }
 ],
 "metadata": {
  "kernelspec": {
   "display_name": "Python 3",
   "language": "python",
   "name": "python3"
  },
  "language_info": {
   "codemirror_mode": {
    "name": "ipython",
    "version": 3
   },
   "file_extension": ".py",
   "mimetype": "text/x-python",
   "name": "python",
   "nbconvert_exporter": "python",
   "pygments_lexer": "ipython3",
   "version": "3.10.12"
  },
  "orig_nbformat": 4
 },
 "nbformat": 4,
 "nbformat_minor": 2
}
